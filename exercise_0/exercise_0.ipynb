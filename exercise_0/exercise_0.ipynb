{
 "cells": [
  {
   "cell_type": "markdown",
   "metadata": {},
   "source": [
    "# Import statements"
   ]
  },
  {
   "cell_type": "code",
   "execution_count": 11,
   "metadata": {},
   "outputs": [
    {
     "name": "stderr",
     "output_type": "stream",
     "text": [
      "Fontconfig warning: ignoring UTF-8: not a valid region tag\n"
     ]
    }
   ],
   "source": [
    "import pandas as pd\n",
    "import numpy as np\n",
    "\n",
    "import matplotlib.pyplot as plt"
   ]
  },
  {
   "cell_type": "markdown",
   "metadata": {},
   "source": [
    "# Reading data\n",
    "\n"
   ]
  },
  {
   "cell_type": "code",
   "execution_count": 21,
   "metadata": {},
   "outputs": [
    {
     "name": "stdout",
     "output_type": "stream",
     "text": [
      "[35.6 45.2 40.8 35.6 38.4 39.2 38.4 45.6 34.4 26.4 35.2 36.8 36.8 41.2\n",
      " 48.4 48.8 48.  30.4 21.6 33.2 41.6 28.  42.  25.6 40.4 44.4 38.8 44.\n",
      " 32.8 38.4 42.8 40.  44.  36.4 38.  46.4 42.8 45.6 28.4 41.2 36.8 40.8\n",
      " 34.  40.8 30.4 36.  36.  37.2 32.8 46.  38.  35.2 38.  51.6 51.2 37.2\n",
      " 30.8 42.8 36.4 45.2 32.4 38.  44.  48.4 53.6 36.4 32.4 29.6 44.  40.\n",
      " 43.2 39.2 30.8 38.8 29.2 49.2 44.4 31.2 38.  38.  40.8 25.6 46.8 50.\n",
      " 40.  24.4 37.2 37.2 49.2 26.  46.8 39.6 41.2 35.2 23.2 44.8 40.  39.2\n",
      " 42.  25.2]\n"
     ]
    }
   ],
   "source": [
    "# Read speeds\n",
    "speeds_df = pd.read_csv(\"speeds.csv\",delimiter=\" \") # Reads file\n",
    "organized_speed_df = speeds_df.groupby(\"pedestrianId\") # Arrange data in terms of pedestrianId\n",
    "\n",
    "# Read evaluation time\n",
    "ev_time_df = pd.read_csv(\"endtimes.csv\", delimiter=\" \")\n",
    "organized_ev_time_df = ev_time_df.groupby(\"pedestrianId\")\n",
    "\n",
    "# Retrieving the endtimes\n",
    "ped_ev_time = np.empty(0)\n",
    "for (_,pedestrian) in organized_ev_time_df:\n",
    "    ped_ev_time= np.append(ped_ev_time,pedestrian[\"endTime-PID5\"])\n",
    "\n",
    "# Calculating mean of all speeds\n",
    "#ped_speeds = [np.mean(pedestrian[\"speedInAreaUsingAgentVelocity-PID6\"]) for (_,pedestrian) in organized_data]\n",
    "ped_speeds = np.empty(0)\n",
    "for _,pedestrian in organized_speed_df:\n",
    "    ped_speeds = np.append(ped_speeds,np.mean(pedestrian[\"speedInAreaUsingAgentVelocity-PID6\"]))\n"
   ]
  },
  {
   "cell_type": "markdown",
   "metadata": {},
   "source": [
    "# Plot"
   ]
  },
  {
   "cell_type": "code",
   "execution_count": 23,
   "metadata": {},
   "outputs": [
    {
     "data": {
      "text/plain": [
       "<matplotlib.collections.PathCollection at 0x11bc3bcd0>"
      ]
     },
     "execution_count": 23,
     "metadata": {},
     "output_type": "execute_result"
    },
    {
     "data": {
      "image/png": "[encoded data removed]",
      "text/plain": [
       "<Figure size 360x360 with 1 Axes>"
      ]
     },
     "metadata": {
      "needs_background": "light"
     },
     "output_type": "display_data"
    }
   ],
   "source": [
    "fig, ax = plt.subplots(1,1, figsize=(5,5))\n",
    "ax.scatter(ped_speeds,ped_ev_time)"
   ]
  },
  {
   "cell_type": "code",
   "execution_count": null,
   "metadata": {},
   "outputs": [],
   "source": []
  }
 ],
 "metadata": {
  "interpreter": {
   "hash": "aee8b7b246df8f9039afb4144a1f6fd8d2ca17a180786b69acc140d282b71a49"
  },
  "kernelspec": {
   "display_name": "Python 3.9.7 64-bit",
   "name": "python3"
  },
  "language_info": {
   "codemirror_mode": {
    "name": "ipython",
    "version": 3
   },
   "file_extension": ".py",
   "mimetype": "text/x-python",
   "name": "python",
   "nbconvert_exporter": "python",
   "pygments_lexer": "ipython3",
   "version": "3.9.7"
  },
  "orig_nbformat": 4
 },
 "nbformat": 4,
 "nbformat_minor": 2
}
