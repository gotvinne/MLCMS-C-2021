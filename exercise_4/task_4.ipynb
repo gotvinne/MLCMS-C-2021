{
 "cells": [
  {
   "cell_type": "markdown",
   "id": "c0a5017a",
   "metadata": {},
   "source": [
    "# Task 4: Fire Evacuation Planning for the MI Building"
   ]
  },
  {
   "cell_type": "code",
   "execution_count": 5,
   "id": "c0bd9209",
   "metadata": {},
   "outputs": [],
   "source": [
    "#imports\n",
    "import numpy as np\n",
    "from matplotlib import pyplot as plt"
   ]
  },
  {
   "cell_type": "code",
   "execution_count": 11,
   "id": "abb6177a",
   "metadata": {},
   "outputs": [
    {
     "name": "stdout",
     "output_type": "stream",
     "text": [
      "(3600, 2)\n"
     ]
    }
   ],
   "source": [
    "# The data is points in R^2\n",
    "test_data = np.load(\"datasets/FireEvac_test_set.npy\")\n",
    "train_data = np.load(\"datasets/FireEvac_train_set.npy\")\n",
    "total_data = np.concatenate((test_data,train_data))"
   ]
  },
  {
   "cell_type": "markdown",
   "id": "efd9b221",
   "metadata": {},
   "source": [
    "## Scatter plot of the data sets"
   ]
  },
  {
   "cell_type": "code",
   "execution_count": 15,
   "id": "6f8e2d3a",
   "metadata": {},
   "outputs": [
    {
     "data": {
      "text/plain": [
       "Text(0.5, 1.0, 'Data set')"
      ]
     },
     "execution_count": 15,
     "metadata": {},
     "output_type": "execute_result"
    },
    {
     "data": {
      "image/png": "[encoded data removed]",
      "text/plain": [
       "<Figure size 432x288 with 1 Axes>"
      ]
     },
     "metadata": {
      "needs_background": "light"
     },
     "output_type": "display_data"
    }
   ],
   "source": [
    "fig = plt.figure()\n",
    "ax = fig.add_subplot()\n",
    "ax.scatter(total_data[:,0], total_data[:,1])\n",
    "plt.xlabel(\"x\")\n",
    "plt.ylabel(\"y\")\n",
    "plt.title(\"Data set\")"
   ]
  },
  {
   "cell_type": "markdown",
   "id": "71b977c6",
   "metadata": {},
   "source": [
    "## Train VAE in order to learn p(x)"
   ]
  },
  {
   "cell_type": "code",
   "execution_count": null,
   "id": "61c22652",
   "metadata": {},
   "outputs": [],
   "source": []
  }
 ],
 "metadata": {
  "kernelspec": {
   "display_name": "Python 3 (ipykernel)",
   "language": "python",
   "name": "python3"
  },
  "language_info": {
   "codemirror_mode": {
    "name": "ipython",
    "version": 3
   },
   "file_extension": ".py",
   "mimetype": "text/x-python",
   "name": "python",
   "nbconvert_exporter": "python",
   "pygments_lexer": "ipython3",
   "version": "3.9.8"
  }
 },
 "nbformat": 4,
 "nbformat_minor": 5
}
