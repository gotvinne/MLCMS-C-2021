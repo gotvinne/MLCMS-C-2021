{
 "cells": [
  {
   "cell_type": "code",
   "execution_count": null,
   "metadata": {},
   "outputs": [],
   "source": [
    "import matplotlib.pyplot as plt\n",
    "import numpy as np\n",
    "import pandas as pd\n",
    "import seaborn as sns\n",
    "from vadereanalysistool import ScenarioOutput, VadereProject\n",
    "from scipy.optimize import curve_fit\n",
    "\n",
    "sns.set(style=\"whitegrid\")\n",
    "sns.set_context(\"notebook\", font_scale=1.5, rc={\"lines.linewidth\": 2.0})\n",
    "\n",
    "def plotEvolution(vproject, ending, yval, ylabel):\n",
    "    plots = []\n",
    "    i = 1\n",
    "    rows = len(vproject.output_dirs);\n",
    "    plt.figure(1, figsize=(30, 10*rows))\n",
    "    for outStr in project.output_dirs :\n",
    "        out = project.output_dirs[outStr]\n",
    "        dataFrames = []\n",
    "        for fileStr in out.files :\n",
    "            if fileStr.endswith(ending) :\n",
    "                ndf = pd.DataFrame();\n",
    "                df = out.files[fileStr]()\n",
    "                #df = df[df.velocity > 0]\n",
    "                ndf['density'] = df.density.astype(float)\n",
    "                ndf['velocity'] = df.velocity.astype(float)\n",
    "                ndf['timeStep'] = df.timeStep.astype(int)\n",
    "                ndf['scenario'] = [out.scenario['name']] * len(df.density)\n",
    "                dataFrames.append(ndf)\n",
    "            #concatFrames = pd.concat(dataFrames)\n",
    "        plt.subplot(rows, 1, i)\n",
    "        plt.title(out.scenario['name'])\n",
    "        plt.xlabel('timeStep')\n",
    "        plt.ylabel(ylabel)\n",
    "        sns.lineplot(x='timeStep', y=yval, data=pd.concat(dataFrames))\n",
    "        i = i + 1\n",
    "\n",
    "def plotFundamentalDiagram(vproject, ending):\n",
    "    dataFrames = []\n",
    "    for outStr in project.output_dirs :\n",
    "        out = project.output_dirs[outStr]\n",
    "        for fileStr in out.files :\n",
    "            if fileStr.endswith(ending) :\n",
    "                ndf = pd.DataFrame();\n",
    "                df = out.files[fileStr]()\n",
    "                ndf['density'] = df.density.astype(float)\n",
    "                ndf['velocity'] = df.velocity.astype(float)\n",
    "                ndf['timeStep'] = df.timeStep.astype(int)\n",
    "                ndf['scenario'] = [fileStr] * len(df.velocity)\n",
    "                #ndf = ndf[ndf.timeStep > 100]\n",
    "                #ndf = ndf[ndf.timeStep < 500]\n",
    "                ndf = ndf[ndf.density < 4]\n",
    "                ndf = ndf[ndf.velocity > 0]\n",
    "                dataFrames.append(ndf)\n",
    "    concatFrames = pd.concat(dataFrames)\n",
    "    g = sns.relplot(x=\"density\", y=\"velocity\", hue=\"scenario\", data=concatFrames,\n",
    "                height=10, aspect=1)\n",
    "    g.set(xticks=[0,0.5,1,1.5,2,2.5,3,3.5,4], yticks=[0,0.5,1,1.5,2,2.5]);\n",
    "    g.savefig(\"./\"+vproject.project_name+\"_\"+ending+\"_fd\"+\".pdf\", bbox_inches='tight')\n",
    "    #axis = g.axes\n",
    "    #axes.set_xticks([0,1,2,3,4,5,6])\n",
    "    #axes.set_yticks([0,0.5,1,1.5,2,2.5])\n",
    "    #axes.set_xlim(0,6)\n",
    "    #axes.set_ylim(0,2.5)\n",
    "    \n",
    "def plotFundamentalDiagramScatter(vproject, ending, sep=False, width = 10, height = 5):\n",
    "    dataFrames = []\n",
    "    index = 0\n",
    "    cols = 3\n",
    "    rows = len(vproject.output_dirs) / cols + 1\n",
    "    if not sep :\n",
    "        fig, axs = plt.subplots(int(rows), int(cols), figsize=(height*rows, width*cols), sharex=False, sharey=True)       \n",
    "    for outStr in vproject.output_dirs :\n",
    "        out = vproject.output_dirs[outStr]\n",
    "        for fileStr in out.files :\n",
    "            if fileStr.endswith(ending) :\n",
    "                if not sep : \n",
    "                    axes = axs[int(index / cols), int(index % cols)]\n",
    "                else :\n",
    "                    fig = plt.figure(1, figsize=(width, height))\n",
    "                    axes = plt.axes()\n",
    "                    fig.add_axes(axes)\n",
    "                ndf = pd.DataFrame();\n",
    "                df = out.files[fileStr]()\n",
    "                ndf['density'] = df.density.astype(float)\n",
    "                ndf['velocity'] = df.velocity.astype(float)\n",
    "                ndf['timeStep'] = df.timeStep.astype(int)\n",
    "                ndf['scenario'] = [out.scenario['name']] * len(df.velocity)\n",
    "                ndf = ndf[ndf.density < 4]\n",
    "                #ndf = ndf[ndf.timeStep > 100]\n",
    "                #ndf = ndf[ndf.timeStep < 300]\n",
    "                #plt.scatter()\n",
    "                #axes.set_title(out.scenario['name'])\n",
    "                axes.set_xlabel('density')\n",
    "                axes.set_ylabel('velocity')\n",
    "                axes.set_xticks([0,1,2,3,4,5,6])\n",
    "                axes.set_yticks([0,0.5,1,1.5,2,2.5])\n",
    "                axes.set_xlim(0,6)\n",
    "                axes.set_ylim(0,2.5)\n",
    "                axes.scatter(ndf['density'], ndf['velocity'], s=0.7, marker='*', color='#555555')\n",
    "                wm = plotWeidmann(axes)\n",
    "                popt, pcov = curve_fit(kladek, ndf['density'], ndf['velocity'], p0=(1.34, 1.913, 5.4))\n",
    "                print(str(popt[0]) + \",\" + str(popt[1]) + \",\" + str(popt[2]))\n",
    "                xx = np.linspace(0.1, 6, 1000)\n",
    "                yy = kladek(xx, *popt)\n",
    "                axes.plot(xx, yy, '--', c=sns.color_palette().as_hex()[1])     \n",
    "                axes.legend(['Weidmann', 'regression', 'Simulated data'])\n",
    "                index = index + 1;\n",
    "                if sep :\n",
    "                    fig.savefig(\"./\"+out.scenario['name']+\"_\"+ending+\"_fd\"+\".pdf\", bbox_inches='tight')\n",
    "                    plt.show()\n",
    "    if not sep :\n",
    "        fig.savefig(\"./\"+vproject.project_name+\"_\"+ending+\"_fd\"+\".pdf\", bbox_inches='tight')\n",
    "        "
   ]
  },
  {
   "cell_type": "markdown",
   "metadata": {},
   "source": [
    "# Load the Vadere project"
   ]
  },
  {
   "cell_type": "code",
   "execution_count": null,
   "metadata": {},
   "outputs": [],
   "source": [
    "projectFolder = \"./../../../../Scenarios/ModelCalibration/TestOSM_zhang-2011/\"\n",
    "project = VadereProject(projectFolder)\n",
    "#out = project.named_output.C_050_180_180_2018_11_26_16_30_29_355() "
   ]
  },
  {
   "cell_type": "markdown",
   "metadata": {},
   "source": [
    "## Method A Plots"
   ]
  },
  {
   "cell_type": "code",
   "execution_count": null,
   "metadata": {},
   "outputs": [],
   "source": [
    "# transform data frame\n",
    "plotFundamentalDiagram(project, \"aTimeStep.fundamentalDiagram\")"
   ]
  },
  {
   "cell_type": "markdown",
   "metadata": {},
   "source": [
    "#### Method B Plots"
   ]
  },
  {
   "cell_type": "code",
   "execution_count": null,
   "metadata": {},
   "outputs": [],
   "source": [
    "plotFundamentalDiagram(project, \"bPedestrian.fundamentalDiagram\")"
   ]
  },
  {
   "cell_type": "markdown",
   "metadata": {},
   "source": [
    "## Method C Plots (classical density)"
   ]
  },
  {
   "cell_type": "code",
   "execution_count": null,
   "metadata": {},
   "outputs": [],
   "source": [
    "plotFundamentalDiagram(project, \"cTimeStep.fundamentalDiagram\")"
   ]
  },
  {
   "cell_type": "markdown",
   "metadata": {},
   "source": [
    "## Method E Plots (voronoi density)"
   ]
  },
  {
   "cell_type": "code",
   "execution_count": null,
   "metadata": {},
   "outputs": [],
   "source": [
    "plotFundamentalDiagram(project, \"eTimeStep.fundamentalDiagram\")"
   ]
  },
  {
   "cell_type": "markdown",
   "metadata": {},
   "source": [
    "## Method D Plots (voronoi density)"
   ]
  },
  {
   "cell_type": "code",
   "execution_count": null,
   "metadata": {},
   "outputs": [],
   "source": [
    "plotFundamentalDiagram(project, \"dTimeStep.fundamentalDiagram\")"
   ]
  },
  {
   "cell_type": "code",
   "execution_count": null,
   "metadata": {
    "scrolled": false
   },
   "outputs": [],
   "source": [
    "plotEvolution(project, \"aTimeStep.fundamentalDiagram\", 'density', 'density')"
   ]
  },
  {
   "cell_type": "code",
   "execution_count": null,
   "metadata": {},
   "outputs": [],
   "source": [
    "import matplotlib.pyplot as plt\n",
    "\n",
    "coord1 = [[23.926582253991363,11.311616564587455],[24.526824188631515,11.346725287186784],[24.52439283212948,11.89],[23.80719398422859,11.89]]\n",
    "coord1.append(coord1[0])\n",
    "coord2 = [[22.0,10.1], [24.0,10.1], [24.0,11.9], [22.0,11.9], [22.0,10.1]]\n",
    "coord2.append(coord2[0])\n",
    "cap = [[23.926582253991363,11.311616564587455],[24.000000000000014,11.315910838495633],[24.000000000000025,11.889999999999956],[23.80719398422859,11.89]]\n",
    "cap.append(cap[0])\n",
    "\n",
    "xs1, ys1 = zip(*coord1) #create lists of x and y values\n",
    "xs2, ys2 = zip(*coord2) \n",
    "xs3, ys3 = zip(*cap) \n",
    "plt.figure(figsize=(10,10))\n",
    "plt.plot(xs1,ys1)\n",
    "plt.plot(xs2,ys2)\n",
    "plt.plot(xs3,ys3)\n",
    "plt.show() # if you need...\n"
   ]
  },
  {
   "cell_type": "code",
   "execution_count": null,
   "metadata": {},
   "outputs": [],
   "source": [
    "import matplotlib.pyplot as plt\n",
    "\n",
    "coord = [[1,1], [2,1], [2,2], [1,2], [0.5,1.5]]\n",
    "coord.append(coord[0]) #repeat the first point to create a 'closed loop'\n",
    "\n",
    "xs, ys = zip(*coord) #create lists of x and y values\n",
    "\n",
    "plt.figure()\n",
    "plt.plot(xs,ys) \n",
    "plt.show() # if you need.."
   ]
  },
  {
   "cell_type": "code",
   "execution_count": null,
   "metadata": {},
   "outputs": [],
   "source": []
  }
 ],
 "metadata": {
  "kernelspec": {
   "display_name": "Python 3",
   "language": "python",
   "name": "python3"
  },
  "language_info": {
   "codemirror_mode": {
    "name": "ipython",
    "version": 3
   },
   "file_extension": ".py",
   "mimetype": "text/x-python",
   "name": "python",
   "nbconvert_exporter": "python",
   "pygments_lexer": "ipython3",
   "version": "3.6.8"
  }
 },
 "nbformat": 4,
 "nbformat_minor": 2
}
