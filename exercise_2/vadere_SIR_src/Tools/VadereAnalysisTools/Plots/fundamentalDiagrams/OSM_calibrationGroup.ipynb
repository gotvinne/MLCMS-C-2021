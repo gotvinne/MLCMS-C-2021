{
 "cells": [
  {
   "cell_type": "markdown",
   "metadata": {},
   "source": [
    "# Calibration of the Optimal Steps Model\n",
    "\n",
    "This script is an attempt to recompute the results in silver-2016b page 51. The scenario [scenario](./../../../../Scenarios/ModelTests/TestOSM_calibration/rimea_04_calibration_osm.scenario) is based on the RiMEA-Test 4. We use the `Teleporter` to model a circular scenario and the parameter `useFreeSpaceOnly = false` to generate high densities. The following code plots all the necessary diagrams."
   ]
  },
  {
   "cell_type": "code",
   "execution_count": null,
   "metadata": {
    "code_folding": []
   },
   "outputs": [],
   "source": [
    "import matplotlib.pyplot as plt\n",
    "import numpy as np\n",
    "import pandas as pd\n",
    "import seaborn as sns\n",
    "# from vadere_analysis_tool import ScenarioOutput, VadereProject\n",
    "from vadereanalysistool import ScenarioOutput, VadereProject\n",
    "from scipy.optimize import curve_fit\n",
    "import re\n",
    "from os.path import join\n",
    "\n",
    "sns.set(style=\"whitegrid\")\n",
    "sns.set_context(\"notebook\", font_scale=1.5, rc={\"lines.linewidth\": 2.0})\n",
    "\n",
    "def plotEvolution(project, ending, yval, ylabel, export_prefix=\"\"):\n",
    "    plots = []\n",
    "    i = 1\n",
    "    width = 15* len(project.output_dirs)\n",
    "    axNum = len(project.output_dirs)\n",
    "    plt.figure(1, figsize=(width, 10))\n",
    "    for outStr in project.output_dirs :\n",
    "        out = project.output_dirs[outStr]\n",
    "        dataFrames = []\n",
    "        for fileStr in out.files :\n",
    "            if fileStr.endswith(ending) :\n",
    "                ndf = pd.DataFrame();\n",
    "                df = out.files[fileStr]()\n",
    "                #df = df[df.velocity > 0]\n",
    "                ndf['density'] = df.density.astype(float)\n",
    "                ndf['velocity'] = df.velocity.astype(float)\n",
    "                ndf['timeStep'] = df.timeStep.astype(int)\n",
    "                ndf['scenario'] = [out.scenario['name']] * len(df.density)\n",
    "                dataFrames.append(ndf)\n",
    "            #concatFrames = pd.concat(dataFrames)\n",
    "        plt.subplot(axNum, 1, i)\n",
    "        plt.title(out.scenario['name'])\n",
    "        plt.xlabel('timeStep')\n",
    "        plt.ylabel(ylabel)\n",
    "        sns.lineplot(x='timeStep', y=yval, data=pd.concat(dataFrames))\n",
    "        i = i + 1\n",
    "    plt.savefig(\"./\"+export_prefix+\"plotEvolution_\"+ylabel+\".png\", bbox_inches='tight')\n",
    "\n",
    "\n",
    "    \n",
    "    \n",
    "def plotFundamentalDiagram(vproject, ending,export_prefix=\"\"):\n",
    "    dataFrames = []\n",
    "    for outStr in project.output_dirs :\n",
    "        out = project.output_dirs[outStr]\n",
    "        for fileStr in out.files :\n",
    "            if fileStr.endswith(ending) :\n",
    "                ndf = pd.DataFrame();\n",
    "                df = out.files[fileStr]()\n",
    "                ndf['density'] = df.density.astype(float)\n",
    "                ndf['velocity'] = df.velocity.astype(float)\n",
    "                ndf['scenario'] = [out.scenario['name']] * len(df.velocity)\n",
    "                #ndf = ndf[ndf.density < 7]\n",
    "                dataFrames.append(ndf)\n",
    "    concatFrames = pd.concat(dataFrames)\n",
    "    g = sns.relplot(x=\"density\", y=\"velocity\", hue=\"scenario\", data=concatFrames,\n",
    "                height=10, aspect=2)\n",
    "\n",
    "def createFundamentalDiagramScatterPlot(fig, axes, data, scenario_name):\n",
    "    ndf = pd.DataFrame()\n",
    "    ndf['density'] = data.density.astype(float)\n",
    "    ndf['velocity'] = data.velocity.astype(float)\n",
    "    ndf['scenario'] = scenario_name * len(data.velocity)\n",
    "    axes.set_xlabel('density')\n",
    "    axes.set_ylabel('velocity')\n",
    "    axes.set_xticks([0,1,2,3,4,5,6])\n",
    "    axes.set_yticks([0,0.5,1,1.5,2,2.5])\n",
    "    axes.set_xlim(0,6)\n",
    "    axes.set_ylim(0,2.5)\n",
    "    axes.scatter(ndf['density'], ndf['velocity'], s=0.7, marker='*', color='#555555')\n",
    "    wm = plotWeidmann(axes)\n",
    "    popt, pcov = curve_fit(kladek, ndf['density'], ndf['velocity'], p0=(1.34, 1.913, 5.4))\n",
    "    print(str(popt[0]) + \",\" + str(popt[1]) + \",\" + str(popt[2]))\n",
    "    xx = np.linspace(0.1, 6, 1000)\n",
    "    yy = kladek(xx, *popt)\n",
    "    axes.plot(xx, yy, '--', c=sns.color_palette().as_hex()[1])\n",
    "    axes.set_title(scenario_name)\n",
    "    axes.legend(['Weidmann', 'regression', 'Simulated data'])\n",
    "\n",
    "    \n",
    "def plotFundamentalDiagramScatter2(outputs, processor_names, separte_fig, height, width, offset=0, export_path=\"\", offset_gen=None):\n",
    "    cols = len(processor_names)\n",
    "    rows = len(outputs)\n",
    "    print(f\"{height*rows} = {height} * {rows}\")\n",
    "    print(f\"{width*cols} = {width} * {cols}\")\n",
    "    \n",
    "    if not separte_fig:\n",
    "        fig, axs = plt.subplots(int(rows), int(cols), figsize=(width*cols, height*rows), sharex=False, sharey=True)\n",
    "    index = 0\n",
    "    for output in outputs:\n",
    "        \n",
    "        if separte_fig:\n",
    "            fig, axs = plt.subplots(1, int(cols), figsize=(width*cols, height*1), sharex=False, sharey=True)\n",
    "            axs = [plt.subplot2grid((2,2), (0,0)),\n",
    "                   plt.subplot2grid((2,2), (1,0)),\n",
    "                   plt.subplot2grid((2,2), (1,1))]\n",
    "            fig.suptitle(output.scenario['name'], fontsize=32)\n",
    "                \n",
    "        for processor in processor_names:\n",
    "            data = output.files[processor]()\n",
    "            if separte_fig:\n",
    "                axes= axs[index]\n",
    "                axes_name = f\"{processor} ({output.output_dir_name})\"\n",
    "            else:\n",
    "                axes= axs[int(index / cols), int(index % cols)]\n",
    "                axes_name = f\"{output.scenario['name']}:{processor} ({output.output_dir_name})\"\n",
    "#             createFundamentalDiagramScatterPlot(fig, axes, df, f\"{output.scenario['name']}:{processor} ({output.output_dir_name})\")\n",
    "            ndf = pd.DataFrame()\n",
    "            ndf['density'] = data.density.astype(float)\n",
    "            ndf['velocity'] = data.velocity.astype(float)\n",
    "            ndf['scenario'] = output.scenario['name'] * len(data.velocity)\n",
    "            axes.set_xlabel('density')\n",
    "            axes.set_ylabel('velocity')\n",
    "            axes.set_xticks([0,1,2,3,4,5,6])\n",
    "            axes.set_yticks([0,0.5,1,1.5,2,2.5])\n",
    "            axes.set_xlim(0,6)\n",
    "            axes.set_ylim(0,2.5)\n",
    "            axes.scatter(ndf['density'], ndf['velocity'], s=0.7, marker='*', color='#555555')\n",
    "            wm = plotWeidmann(axes)\n",
    "            popt, pcov = curve_fit(kladek, ndf['density'], ndf['velocity'], p0=(1.34, 1.913, 5.4))\n",
    "            print(str(popt[0]) + \",\" + str(popt[1]) + \",\" + str(popt[2]))\n",
    "            xx = np.linspace(0.1, 6, 1000)\n",
    "            yy = kladek(xx, *popt)\n",
    "            axes.plot(xx, yy, '--', c=sns.color_palette().as_hex()[1])\n",
    "            axes.set_title(axes_name)\n",
    "            axes.legend(['Weidmann', 'regression', 'Simulated data'])\n",
    "            index = index + 1\n",
    "        \n",
    "        if separte_fig:\n",
    "            index = 0\n",
    "            txt = f\"--- groupSizeDistribution: {output.scenario['scenario']['topography']['sources'][0]['groupSizeDistribution']} --- \"\n",
    "            txt += f\"minStepLength: {output.scenario['scenario']['attributesModel']['org.vadere.state.attributes.models.AttributesOSM']['minStepLength']} ---  stepCircleResolution: {out.scenario['scenario']['attributesModel']['org.vadere.state.attributes.models.AttributesOSM']['stepCircleResolution']} --- \"\n",
    "            txt += f\"minimumStepLength: {output.scenario['scenario']['attributesModel']['org.vadere.state.attributes.models.AttributesOSM']['minimumStepLength']} --- \"\n",
    "            fig.text(.25,-.03,txt, fontsize=24)\n",
    "            if export_path:\n",
    "                fig.savefig(join(export_path, f\"{output.output_dir_name}.png\") , bbox_inches='tight')\n",
    "                \n",
    "        \n",
    "    fig.savefig(\"./XXX\"+\".png\", bbox_inches='tight')\n",
    "            \n",
    "def plotFundamentalDiagramScatter(vproject, ending, sep=False, width = 10, height = 5, offset=0, export_prefix=\"\", offset_gen=None):\n",
    "    dataFrames = []\n",
    "    index = 0\n",
    "    cols = 3\n",
    "    rows = len(vproject.output_dirs) / cols + 1\n",
    "    if not sep :\n",
    "        fig, axs = plt.subplots(int(rows), int(cols), figsize=(height*rows, width*cols), sharex=False, sharey=True)       \n",
    "    for outStr in vproject.output_dirs :\n",
    "        out = vproject.output_dirs[outStr]\n",
    "        for fileStr in out.files :\n",
    "            if fileStr.endswith(ending) :\n",
    "                if not sep : \n",
    "                    axes = axs[int(index / cols), int(index % cols)]\n",
    "                else :\n",
    "                    fig = plt.figure(1, figsize=(width, height))\n",
    "                    axes = plt.axes()\n",
    "                    fig.add_axes(axes)\n",
    "                ndf = pd.DataFrame();\n",
    "                df = out.files[fileStr]()\n",
    "                if offset_gen is not None:\n",
    "                    offset = offset_gen(out)\n",
    "                    print(f\"ignore to timestep {offset}\")\n",
    "                print(len(df))\n",
    "                df = df[offset:] # ignore first n rows defined by offset\n",
    "                print(len(df))\n",
    "                plotFundamentalDiagramScatter2(fig, axes, df, f'{out.output_dir_name}: {fileStr}')\n",
    "                if sep :\n",
    "                    fig.savefig(\"./\"+export_prefix+out.scenario['name']+\"_fundamental_diagram\"+\".png\", bbox_inches='tight')\n",
    "                    plt.show()\n",
    "    if not sep :\n",
    "        fig.savefig(\"./\"+export_prefix+vproject.project_name+\"_fundamental_diagrams\"+\".png\", bbox_inches='tight')\n",
    "\n"
   ]
  },
  {
   "cell_type": "code",
   "execution_count": null,
   "metadata": {},
   "outputs": [],
   "source": [
    "a = 5\n",
    "f\"{{dfdf{5}}}\""
   ]
  },
  {
   "cell_type": "code",
   "execution_count": null,
   "metadata": {
    "code_folding": []
   },
   "outputs": [],
   "source": [
    "def plotWeidmann(axes):\n",
    "    wmaxDensity = 5.4\n",
    "    wmeanVelocity = 1.34\n",
    "    wgamma = 1.913\n",
    "    wx = np.linspace(0.1, wmaxDensity, 100)\n",
    "    return plotKladek(wx, wmeanVelocity, wgamma, wmaxDensity, axes)\n",
    "\n",
    "def plotKladek(x, v, gamma, pmax, axes):\n",
    "    result, = axes.plot(x, kladek(x, v, gamma, pmax), c=sns.color_palette().as_hex()[0])\n",
    "    return result\n",
    "\n",
    "def kladek(x, v, gamma, pmax):\n",
    "    return v * (1 - np.exp(-gamma * (1/x - 1/pmax)))"
   ]
  },
  {
   "cell_type": "code",
   "execution_count": null,
   "metadata": {},
   "outputs": [],
   "source": [
    "def filterOutput(project, output_name_re):\n",
    "    del_keys = [k for k in project.output_dirs if not output_name_re.match(k)]\n",
    "    for k in del_keys: del project.output_dirs[k]\n",
    "\n",
    "def getOffset(out):\n",
    "    postvis_df = out.files['postvis.trajectories']()\n",
    "    offset = postvis_df[postvis_df.x > 38]['timeStep'].min()\n",
    "    return offset + 250\n"
   ]
  },
  {
   "cell_type": "code",
   "execution_count": null,
   "metadata": {},
   "outputs": [],
   "source": [
    "suq_out='/home/lphex/hm.d/groupModelCalibration/vadere_output'\n",
    "out = ScenarioOutput.create_output_from_suq_output(suq_out, 0)\n",
    "\n"
   ]
  },
  {
   "cell_type": "markdown",
   "metadata": {},
   "source": [
    "# Meassurement methods\n",
    "All methods are described in zhang-2011.\n",
    "\n",
    "## Method A Plots\n",
    "The computation of the velocity is slightly different i.e. we use the velocity computed by the current and last foot step."
   ]
  },
  {
   "cell_type": "code",
   "execution_count": null,
   "metadata": {},
   "outputs": [],
   "source": [
    "# transform data frame\n",
    "plotFundamentalDiagramScatter(project, \"aTimeStep.fundamentalDiagram\", True, 6, 6,export_prefix)"
   ]
  },
  {
   "cell_type": "markdown",
   "metadata": {},
   "source": [
    "## Method B Plots\n",
    "This method does not work for this scenario since agents run multiple times through the same measurement area."
   ]
  },
  {
   "cell_type": "markdown",
   "metadata": {},
   "source": [
    "## Method C Plots\n",
    "The computation of the velocity is slightly different i.e. we use the velocity computed by the current and last foot step."
   ]
  },
  {
   "cell_type": "code",
   "execution_count": null,
   "metadata": {
    "scrolled": false
   },
   "outputs": [],
   "source": [
    "plotFundamentalDiagramScatter(project, \"cTimeStep.fundamentalDiagram50m\",\n",
    "                              True, 6, 6, 0,\"Y\",\n",
    "                              offset_gen=lambda x: 0)"
   ]
  },
  {
   "cell_type": "code",
   "execution_count": null,
   "metadata": {},
   "outputs": [],
   "source": [
    "plotFundamentalDiagramScatter(project, \"cTimeStep.fundamentalDiagram2\", True, 6, 6, 0,\"2\")"
   ]
  },
  {
   "cell_type": "code",
   "execution_count": null,
   "metadata": {},
   "outputs": [],
   "source": [
    "# suq_out='/home/lphex/hm.d/groupModelCalibration/vadere_output' # alt\n",
    "suq_out='/home/lphex/hm.d/groupModelCalibration_run2/groupModelCalibration_run2/vadere_output'\n",
    "outputs = [ScenarioOutput.create_output_from_suq_output(suq_out, i) for i in range(0,28)]\n",
    "processors = [f\"cTimeStep.fundamentalDiagram{i}m\" for i in  ['35', '50', '70']]"
   ]
  },
  {
   "cell_type": "code",
   "execution_count": null,
   "metadata": {
    "scrolled": true
   },
   "outputs": [],
   "source": [
    "plotFundamentalDiagramScatter2(outputs, processors, True, 18, 15, export_path='/home/lphex/hm.d/presentations/groupmodel/bilder')"
   ]
  },
  {
   "cell_type": "code",
   "execution_count": null,
   "metadata": {},
   "outputs": [],
   "source": [
    "% get_backend()"
   ]
  },
  {
   "cell_type": "markdown",
   "metadata": {},
   "source": [
    "## Method D Plots\n",
    "The computation of the velocity is slightly different i.e. we use the velocity computed by the current and last foot step."
   ]
  },
  {
   "cell_type": "code",
   "execution_count": null,
   "metadata": {
    "scrolled": false
   },
   "outputs": [],
   "source": [
    "myPlots = plotFundamentalDiagramScatter(project, \"dTimeStep.fundamentalDiagram\", True, 6, 6, 300,export_prefix)"
   ]
  },
  {
   "cell_type": "markdown",
   "metadata": {},
   "source": [
    "## Method E Plots\n",
    "This method is similar to method D but the density is defined by $$\\langle \\rho \\rangle = \\frac{1}{N} \\sum\\limits_{i=1}^{N} A_i ,$$\n",
    "and the velocity is defined by \n",
    "$$\\langle v \\rangle = \\sum\\limits_{i=1}^{N} \\frac{1}{A_i} \\left( \\sum\\limits_{i=1}^{N} A_i v_i(t) \\right) ,$$\n",
    "\n",
    "where $N$ is the number of pedestrians inside the measurement area and $A_i$ is the area of the voronoi cell of agent $i$."
   ]
  },
  {
   "cell_type": "code",
   "execution_count": null,
   "metadata": {
    "scrolled": true
   },
   "outputs": [],
   "source": [
    "#plotFundamentalDiagramScatter(project, \"eTimeStep.fundamentalDiagram\", False, 10, 10)"
   ]
  },
  {
   "cell_type": "markdown",
   "metadata": {},
   "source": [
    "## Density and velocity evolution"
   ]
  },
  {
   "cell_type": "code",
   "execution_count": null,
   "metadata": {},
   "outputs": [],
   "source": [
    "plotEvolution(project, \"dTimeStep.fundamentalDiagram\", \"density\", \"density\",export_prefix)"
   ]
  },
  {
   "cell_type": "code",
   "execution_count": null,
   "metadata": {},
   "outputs": [],
   "source": [
    "plotEvolution(project, \"dTimeStep.fundamentalDiagram\", \"velocity\", \"velocity\",\"export_prefix\")"
   ]
  },
  {
   "cell_type": "code",
   "execution_count": null,
   "metadata": {},
   "outputs": [],
   "source": [
    "sns.color_palette()"
   ]
  },
  {
   "cell_type": "code",
   "execution_count": null,
   "metadata": {},
   "outputs": [],
   "source": []
  }
 ],
 "metadata": {
  "kernelspec": {
   "display_name": "Python 3",
   "language": "python",
   "name": "python3"
  },
  "language_info": {
   "codemirror_mode": {
    "name": "ipython",
    "version": 3
   },
   "file_extension": ".py",
   "mimetype": "text/x-python",
   "name": "python",
   "nbconvert_exporter": "python",
   "pygments_lexer": "ipython3",
   "version": "3.6.5"
  }
 },
 "nbformat": 4,
 "nbformat_minor": 2
}
