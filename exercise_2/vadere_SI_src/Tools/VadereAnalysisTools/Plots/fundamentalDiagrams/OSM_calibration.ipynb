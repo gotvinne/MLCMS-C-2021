{
 "cells": [
  {
   "cell_type": "markdown",
   "metadata": {},
   "source": [
    "# Calibration of the Optimal Steps Model\n",
    "\n",
    "This script is an attempt to recompute the results in silver-2016b page 51. The scenario [scenario](./../../../../Scenarios/ModelTests/TestOSM_calibration/rimea_04_calibration_osm.scenario) is based on the RiMEA-Test 4. We use the `Teleporter` to model a circular scenario and the parameter `useFreeSpaceOnly = false` to generate high densities. The following code plots all the necessary diagrams."
   ]
  },
  {
   "cell_type": "code",
   "execution_count": null,
   "metadata": {
    "code_folding": []
   },
   "outputs": [],
   "source": [
    "import matplotlib.pyplot as plt\n",
    "import numpy as np\n",
    "import pandas as pd\n",
    "import seaborn as sns\n",
    "from vadereanalysistool import ScenarioOutput, VadereProject\n",
    "from scipy.optimize import curve_fit\n",
    "\n",
    "sns.set(style=\"whitegrid\")\n",
    "sns.set_context(\"notebook\", font_scale=1.5, rc={\"lines.linewidth\": 2.0})\n",
    "\n",
    "def plotEvolution(vproject, ending, yval, ylabel):\n",
    "    plots = []\n",
    "    i = 1\n",
    "    plt.figure(1, figsize=(30, 10))\n",
    "    for outStr in project.output_dirs :\n",
    "        out = project.output_dirs[outStr]\n",
    "        dataFrames = []\n",
    "        for fileStr in out.files :\n",
    "            if fileStr.endswith(ending) :\n",
    "                ndf = pd.DataFrame();\n",
    "                df = out.files[fileStr]()\n",
    "                #df = df[df.velocity > 0]\n",
    "                ndf['density'] = df.density.astype(float)\n",
    "                ndf['velocity'] = df.velocity.astype(float)\n",
    "                ndf['timeStep'] = df.timeStep.astype(int)\n",
    "                ndf['scenario'] = [out.scenario['name']] * len(df.density)\n",
    "                dataFrames.append(ndf)\n",
    "            #concatFrames = pd.concat(dataFrames)\n",
    "        plt.subplot(2, 1, i)\n",
    "        plt.title(out.scenario['name'])\n",
    "        plt.xlabel('timeStep')\n",
    "        plt.ylabel(ylabel)\n",
    "        sns.lineplot(x='timeStep', y=yval, data=pd.concat(dataFrames))\n",
    "        i = i + 1\n",
    "\n",
    "def plotFundamentalDiagram(vproject, ending):\n",
    "    dataFrames = []\n",
    "    for outStr in project.output_dirs :\n",
    "        out = project.output_dirs[outStr]\n",
    "        for fileStr in out.files :\n",
    "            if fileStr.endswith(ending) :\n",
    "                ndf = pd.DataFrame();\n",
    "                df = out.files[fileStr]()\n",
    "                ndf['density'] = df.density.astype(float)\n",
    "                ndf['velocity'] = df.velocity.astype(float)\n",
    "                ndf['scenario'] = [out.scenario['name']] * len(df.velocity)\n",
    "                #ndf = ndf[ndf.density < 7]\n",
    "                dataFrames.append(ndf)\n",
    "    concatFrames = pd.concat(dataFrames)\n",
    "    g = sns.relplot(x=\"density\", y=\"velocity\", hue=\"scenario\", data=concatFrames,\n",
    "                height=10, aspect=2)\n",
    "    \n",
    "def plotFundamentalDiagramScatter(vproject, ending, sep=False, width = 10, height = 5):\n",
    "    dataFrames = []\n",
    "    index = 0\n",
    "    cols = 3\n",
    "    rows = len(vproject.output_dirs) / cols + 1\n",
    "    if not sep :\n",
    "        fig, axs = plt.subplots(int(rows), int(cols), figsize=(height*rows, width*cols), sharex=False, sharey=True)       \n",
    "    for outStr in vproject.output_dirs :\n",
    "        out = vproject.output_dirs[outStr]\n",
    "        for fileStr in out.files :\n",
    "            if fileStr.endswith(ending) :\n",
    "                if not sep : \n",
    "                    axes = axs[int(index / cols), int(index % cols)]\n",
    "                else :\n",
    "                    fig = plt.figure(1, figsize=(width, height))\n",
    "                    axes = plt.axes()\n",
    "                    fig.add_axes(axes)\n",
    "                ndf = pd.DataFrame();\n",
    "                df = out.files[fileStr]()\n",
    "                ndf['density'] = df.density.astype(float)\n",
    "                ndf['velocity'] = df.velocity.astype(float)\n",
    "                ndf['scenario'] = [out.scenario['name']] * len(df.velocity)\n",
    "                #ndf = ndf[ndf.density < 7]\n",
    "                #plt.scatter()\n",
    "                #axes.set_title(out.scenario['name'])\n",
    "                axes.set_xlabel('density')\n",
    "                axes.set_ylabel('velocity')\n",
    "                axes.set_xticks([0,1,2,3,4,5,6])\n",
    "                axes.set_yticks([0,0.5,1,1.5,2,2.5])\n",
    "                axes.set_xlim(0,6)\n",
    "                axes.set_ylim(0,2.5)\n",
    "                axes.scatter(ndf['density'], ndf['velocity'], s=0.7, marker='*', color='#555555')\n",
    "                wm = plotWeidmann(axes)\n",
    "                popt, pcov = curve_fit(kladek, ndf['density'], ndf['velocity'], p0=(1.34, 1.913, 5.4))\n",
    "                print(str(popt[0]) + \",\" + str(popt[1]) + \",\" + str(popt[2]))\n",
    "                xx = np.linspace(0.1, 6, 1000)\n",
    "                yy = kladek(xx, *popt)\n",
    "                axes.plot(xx, yy, '--', c=sns.color_palette().as_hex()[1])     \n",
    "                axes.legend(['Weidmann', 'regression', 'Simulated data'])\n",
    "                index = index + 1;\n",
    "                if sep :\n",
    "                    fig.savefig(\"./\"+out.scenario['name']+\"_fundamental_diagram\"+\".png\", bbox_inches='tight')\n",
    "                    plt.show()\n",
    "    if not sep :\n",
    "        fig.savefig(\"./\"+vproject.project_name+\"_fundamental_diagrams\"+\".png\", bbox_inches='tight')\n",
    "        "
   ]
  },
  {
   "cell_type": "code",
   "execution_count": null,
   "metadata": {
    "code_folding": []
   },
   "outputs": [],
   "source": [
    "def plotWeidmann(axes):\n",
    "    wmaxDensity = 5.4\n",
    "    wmeanVelocity = 1.34\n",
    "    wgamma = 1.913\n",
    "    wx = np.linspace(0.1, wmaxDensity, 100)\n",
    "    return plotKladek(wx, wmeanVelocity, wgamma, wmaxDensity, axes)\n",
    "\n",
    "def plotKladek(x, v, gamma, pmax, axes):\n",
    "    result, = axes.plot(x, kladek(x, v, gamma, pmax), c=sns.color_palette().as_hex()[0])\n",
    "    return result\n",
    "\n",
    "def kladek(x, v, gamma, pmax):\n",
    "    return v * (1 - np.exp(-gamma * (1/x - 1/pmax)))"
   ]
  },
  {
   "cell_type": "markdown",
   "metadata": {},
   "source": [
    "First we load the project"
   ]
  },
  {
   "cell_type": "code",
   "execution_count": null,
   "metadata": {},
   "outputs": [],
   "source": [
    "projectFolder = \"./../../../../Scenarios/ModelCalibration/TestOSM_calibration/\"\n",
    "project = VadereProject(projectFolder)\n",
    "#out = project.named_output.C_050_180_180_2018_11_26_16_30_29_355()'"
   ]
  },
  {
   "cell_type": "markdown",
   "metadata": {},
   "source": [
    "# Meassurement methods\n",
    "All methods are described in zhang-2011.\n",
    "\n",
    "## Method A Plots\n",
    "The computation of the velocity is slightly different i.e. we use the velocity computed by the current and last foot step."
   ]
  },
  {
   "cell_type": "code",
   "execution_count": null,
   "metadata": {},
   "outputs": [],
   "source": [
    "# transform data frame\n",
    "plotFundamentalDiagramScatter(project, \"aTimeStep.fundamentalDiagram\", True, 6, 6)"
   ]
  },
  {
   "cell_type": "markdown",
   "metadata": {},
   "source": [
    "## Method B Plots\n",
    "This method does not work for this scenario since agents run multiple times through the same measurement area."
   ]
  },
  {
   "cell_type": "markdown",
   "metadata": {},
   "source": [
    "## Method C Plots\n",
    "The computation of the velocity is slightly different i.e. we use the velocity computed by the current and last foot step."
   ]
  },
  {
   "cell_type": "code",
   "execution_count": null,
   "metadata": {
    "scrolled": false
   },
   "outputs": [],
   "source": [
    "plotFundamentalDiagramScatter(project, \"cTimeStep.fundamentalDiagram\", True, 6, 6)"
   ]
  },
  {
   "cell_type": "markdown",
   "metadata": {},
   "source": [
    "## Method D Plots\n",
    "The computation of the velocity is slightly different i.e. we use the velocity computed by the current and last foot step."
   ]
  },
  {
   "cell_type": "code",
   "execution_count": null,
   "metadata": {
    "scrolled": false
   },
   "outputs": [],
   "source": [
    "myPlots = plotFundamentalDiagramScatter(project, \"dTimeStep.fundamentalDiagram\", True, 6, 6)"
   ]
  },
  {
   "cell_type": "markdown",
   "metadata": {},
   "source": [
    "## Method E Plots\n",
    "This method is similar to method D but the density is defined by $$\\langle \\rho \\rangle = \\frac{1}{N} \\sum\\limits_{i=1}^{N} A_i ,$$\n",
    "and the velocity is defined by \n",
    "$$\\langle v \\rangle = \\sum\\limits_{i=1}^{N} \\frac{1}{A_i} \\left( \\sum\\limits_{i=1}^{N} A_i v_i(t) \\right) ,$$\n",
    "\n",
    "where $N$ is the number of pedestrians inside the measurement area and $A_i$ is the area of the voronoi cell of agent $i$."
   ]
  },
  {
   "cell_type": "code",
   "execution_count": null,
   "metadata": {
    "scrolled": true
   },
   "outputs": [],
   "source": [
    "plotFundamentalDiagramScatter(project, \"eTimeStep.fundamentalDiagram\", False, 10, 10)"
   ]
  },
  {
   "cell_type": "markdown",
   "metadata": {},
   "source": [
    "## Density and velocity evolution"
   ]
  },
  {
   "cell_type": "code",
   "execution_count": null,
   "metadata": {},
   "outputs": [],
   "source": [
    "plotEvolution(project, \"dTimeStep.fundamentalDiagram\", \"density\", \"density\")\n",
    "#plotEvolution(project, \"aTimeStep.fundamentalDiagram\", \"density\", \"density\")"
   ]
  },
  {
   "cell_type": "code",
   "execution_count": null,
   "metadata": {},
   "outputs": [],
   "source": [
    "plotEvolution(project, \"dTimeStep.fundamentalDiagram\", \"velocity\", \"velocity\")"
   ]
  },
  {
   "cell_type": "code",
   "execution_count": null,
   "metadata": {},
   "outputs": [],
   "source": [
    "sns.color_palette()"
   ]
  },
  {
   "cell_type": "code",
   "execution_count": null,
   "metadata": {},
   "outputs": [],
   "source": []
  }
 ],
 "metadata": {
  "kernelspec": {
   "display_name": "Python 3",
   "language": "python",
   "name": "python3"
  },
  "language_info": {
   "codemirror_mode": {
    "name": "ipython",
    "version": 3
   },
   "file_extension": ".py",
   "mimetype": "text/x-python",
   "name": "python",
   "nbconvert_exporter": "python",
   "pygments_lexer": "ipython3",
   "version": "3.6.8"
  }
 },
 "nbformat": 4,
 "nbformat_minor": 2
}
