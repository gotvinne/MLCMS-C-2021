{
 "cells": [
  {
   "cell_type": "markdown",
   "metadata": {},
   "source": [
    "# Task 3: Setting up neural network for Runge-Kutta's method"
   ]
  },
  {
   "cell_type": "code",
   "execution_count": null,
   "metadata": {},
   "outputs": [],
   "source": [
    "from sw.RKNN import * \n",
    "from torch.utils.data import DataLoader\n",
    "import torch.optim as optim\n",
    "import torch.nn as nn\n",
    "from sw.dataformating import get_train_and_val_data, get_sim_data\n",
    "from sw.simulation import *\n",
    "from sw.plotting import *\n",
    "import numpy as np\n",
    "from sw.numerical_integrator import *\n",
    "from sw.IntegratorNN import IntegratorNN\n",
    "\n",
    "%load_ext autoreload\n",
    "%autoreload 2\n"
   ]
  },
  {
   "cell_type": "markdown",
   "metadata": {},
   "source": [
    "## Hyperparameters"
   ]
  },
  {
   "cell_type": "code",
   "execution_count": null,
   "metadata": {},
   "outputs": [],
   "source": [
    "LR = 1e-4#Learning rate\n",
    "BATCHES = 64\n",
    "EPOCHS = 100\n",
    "\n",
    "INPUT_SIZE = 2\n",
    "OUTPUT_SIZE = 2\n",
    "DEPTH = 4"
   ]
  },
  {
   "cell_type": "markdown",
   "metadata": {},
   "source": [
    "## Formatting data for input"
   ]
  },
  {
   "cell_type": "code",
   "execution_count": null,
   "metadata": {},
   "outputs": [],
   "source": [
    "train_percent = 80\n",
    "train_data, val_data = get_train_and_val_data(\"datasets/postvis.csv\",train_percent)\n",
    "\n",
    "trainset = DataLoader(train_data,batch_size=BATCHES)\n",
    "valset = DataLoader(val_data,batch_size=1)"
   ]
  },
  {
   "cell_type": "markdown",
   "metadata": {},
   "source": [
    "## Training NN with Runge-Kutta template"
   ]
  },
  {
   "cell_type": "code",
   "execution_count": null,
   "metadata": {},
   "outputs": [],
   "source": [
    "net1 = IntegratorNN(INPUT_SIZE, DEPTH, OUTPUT_SIZE)\n",
    "net2 = IntegratorNN(INPUT_SIZE, DEPTH, OUTPUT_SIZE)\n",
    "\n",
    "RKNN = RKNN(net1, net2) \n",
    "\n",
    "optimizer = optim.Adam(RKNN.parameters(),LR)\n",
    "criteria = nn.MSELoss()\n",
    "\n",
    "loss= RKNN_training(RKNN, 100, trainset, optimizer, criteria, valset, BATCHES)\n",
    "\n",
    "plot_rknn_mse(loss, \"figures/rknn_error\")\n"
   ]
  },
  {
   "cell_type": "code",
   "execution_count": null,
   "metadata": {},
   "outputs": [],
   "source": [
    "t = 35\n",
    "num = 2\n",
    "\n",
    "x0, traj = simulate_trajectories(num,t,RKNN)\n",
    "plot_trajectories(num,traj)\n",
    "print(x0)"
   ]
  }
 ],
 "metadata": {
  "interpreter": {
   "hash": "0adcc2737ebf6a4a119f135174df96668767fca1ef1112612db5ecadf2b6d608"
  },
  "kernelspec": {
   "display_name": "Python 3 (ipykernel)",
   "language": "python",
   "name": "python3"
  },
  "language_info": {
   "codemirror_mode": {
    "name": "ipython",
    "version": 3
   },
   "file_extension": ".py",
   "mimetype": "text/x-python",
   "name": "python",
   "nbconvert_exporter": "python",
   "pygments_lexer": "ipython3",
   "version": "3.9.9"
  }
 },
 "nbformat": 4,
 "nbformat_minor": 4
}
