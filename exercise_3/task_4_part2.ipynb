{
 "cells": [
  {
   "cell_type": "markdown",
   "id": "a146a60d",
   "metadata": {},
   "source": [
    "# Task 4: Chaotic dynamics\n"
   ]
  },
  {
   "cell_type": "markdown",
   "id": "ae946bcc",
   "metadata": {},
   "source": [
    "## Part 2: Lorenz attraction \n",
    "\n"
   ]
  },
  {
   "cell_type": "markdown",
   "id": "5a0e5673",
   "metadata": {},
   "source": [
    "<a href=\"https://www.codecogs.com/eqnedit.php?latex=\\begin{equation}&space;\\dot{x}&space;&=&space;\\sigma(x-y)&space;\\\\&space;\\dot{y}&space;&=&space;x(\\rho&space;-&space;z)&space;-&space;y&space;\\\\&space;\\dot{z}&space;&=&space;xy&space;-&space;\\beta&space;z&space;\\end{equation}\" target=\"_blank\"><img src=\"https://latex.codecogs.com/gif.latex?\\begin{equation}&space;\\dot{x}&space;&=&space;\\sigma(x-y)&space;\\\\&space;\\dot{y}&space;&=&space;x(\\rho&space;-&space;z)&space;-&space;y&space;\\\\&space;\\dot{z}&space;&=&space;xy&space;-&space;\\beta&space;z&space;\\end{equation}\" title=\"\\begin{equation} \\dot{x} &= \\sigma(x-y) \\\\ \\dot{y} &= x(\\rho - z) - y \\\\ \\dot{z} &= xy - \\beta z \\end{equation}\" /></a>"
   ]
  },
  {
   "cell_type": "code",
   "execution_count": 1,
   "id": "cf23d2fb",
   "metadata": {},
   "outputs": [],
   "source": [
    "# Imports\n",
    "import numpy as np\n",
    "import matplotlib.pyplot as plt\n",
    "\n",
    "import sw.task4 as t4\n",
    "from sw.utils.plot_utils import three_d_orbit"
   ]
  },
  {
   "cell_type": "code",
   "execution_count": null,
   "id": "b818e0be",
   "metadata": {},
   "outputs": [],
   "source": [
    "dt = 0.01\n",
    "num_steps = 10000\n",
    "\n",
    "# System parameters \n",
    "sigma = 10\n",
    "beta = 8/3 \n",
    "rho = 28"
   ]
  },
  {
   "cell_type": "markdown",
   "id": "a4bfc025",
   "metadata": {},
   "source": [
    "## Orbit plot for P0  = (10,10,10)"
   ]
  },
  {
   "cell_type": "code",
   "execution_count": null,
   "id": "7b10cd21",
   "metadata": {},
   "outputs": [],
   "source": [
    "x_path = np.empty(num_steps + 1)\n",
    "y_path = np.empty(num_steps + 1)\n",
    "z_path = np.empty(num_steps + 1)\n",
    "\n",
    "# Initial values\n",
    "x_path[0], y_path[0], z_path[0] = (10., 10., 10.)\n",
    "\n",
    "# Step through \"time\", calculating the partial derivatives at the current point\n",
    "# and using them to estimate the next point\n",
    "for i in range(num_steps):\n",
    "    x_dot, y_dot, z_dot = t4.lorenz(x_path[i], y_path[i], z_path[i],sigma, rho, beta)\n",
    "    x_path[i + 1] = x_path[i] + (x_dot * dt)\n",
    "    y_path[i + 1] = y_path[i] + (y_dot * dt)\n",
    "    z_path[i + 1] = z_path[i] + (z_dot * dt)"
   ]
  },
  {
   "cell_type": "code",
   "execution_count": null,
   "id": "61659fb1",
   "metadata": {},
   "outputs": [],
   "source": [
    "three_d_orbit(x_path,y_path,z_path)"
   ]
  },
  {
   "cell_type": "markdown",
   "id": "29389a65",
   "metadata": {},
   "source": [
    "## Orbit plot for P' = P0 + (10^-8,0,0)"
   ]
  },
  {
   "cell_type": "code",
   "execution_count": null,
   "id": "66e48fba",
   "metadata": {},
   "outputs": [],
   "source": [
    "x_hat_path = np.empty(num_steps + 1)\n",
    "y_hat_path = np.empty(num_steps + 1)\n",
    "z_hat_path = np.empty(num_steps + 1)\n",
    "\n",
    "# Initial values:\n",
    "x_hat_path[0], y_hat_path[0], z_hat_path[0] = (10.+10**-8.,10.,10.)\n",
    "\n",
    "# Step through \"time\", calculating the partial derivatives at the current point\n",
    "# and using them to estimate the next point\n",
    "for i in range(num_steps):\n",
    "    x_dot, y_dot, z_dot = t4.lorenz(x_hat_path[i], y_hat_path[i], z_hat_path[i],sigma, rho, beta)\n",
    "    x_hat_path[i + 1] = x_hat_path[i] + (x_dot * dt)\n",
    "    y_hat_path[i + 1] = y_hat_path[i] + (y_dot * dt)\n",
    "    z_hat_path[i + 1] = z_hat_path[i] + (z_dot * dt)"
   ]
  },
  {
   "cell_type": "code",
   "execution_count": null,
   "id": "77142cbc",
   "metadata": {},
   "outputs": [],
   "source": [
    "three_d_orbit(x_hat_path,y_hat_path,z_hat_path)"
   ]
  },
  {
   "cell_type": "markdown",
   "id": "7da2e64a",
   "metadata": {},
   "source": [
    "## Plot the difference: \n",
    "\n",
    "<img src=\"https://latex.codecogs.com/svg.latex?e&space;=&space;||x-\\hat{x}||^2\" title=\"e = ||x-\\hat{x}||^2\" />"
   ]
  },
  {
   "cell_type": "code",
   "execution_count": null,
   "id": "bc391c29",
   "metadata": {},
   "outputs": [],
   "source": [
    "xlabel = 'T'\n",
    "diff = np.empty(num_steps+1)"
   ]
  },
  {
   "cell_type": "code",
   "execution_count": null,
   "id": "c93acb73",
   "metadata": {},
   "outputs": [],
   "source": [
    "for i in range(num_steps+1):\n",
    "    e = np.array([x_path[i], y_path[i], z_path[i]])\n",
    "    e_hat= np.array([x_hat_path[i], y_hat_path[i], z_hat_path[i]])\n",
    "    dist = np.linalg.norm(e-e_hat)\n",
    "    dist *=dist \n",
    "    diff[i]=dist\n",
    "\n",
    "ylabel = '$||x-\\hat{x}||^2$'\n",
    "t4.plot_difference(dt,num_steps,diff,xlabel,ylabel)"
   ]
  },
  {
   "cell_type": "markdown",
   "id": "8b925bb0",
   "metadata": {},
   "source": [
    "## Plot the logaritmic difference: \n",
    "<img src=\"https://latex.codecogs.com/svg.latex?e&space;=&space;ln(||x-\\hat{x}||^2)\" title=\"e = ln(||x-\\hat{x}||^2)\" />"
   ]
  },
  {
   "cell_type": "code",
   "execution_count": null,
   "id": "65878b3d",
   "metadata": {},
   "outputs": [],
   "source": [
    "ylabel = '$log(||x-\\hat{x}||^2)$'\n",
    "diff = np.log(diff)\n",
    "t4.plot_difference(dt,num_steps,diff,xlabel,ylabel)"
   ]
  },
  {
   "cell_type": "markdown",
   "id": "88f383f7",
   "metadata": {},
   "source": [
    "## Plot orbit in R^3 for P0"
   ]
  },
  {
   "cell_type": "code",
   "execution_count": null,
   "id": "8d5c78fe",
   "metadata": {},
   "outputs": [],
   "source": [
    "rho = 0.5\n",
    "x_path = np.empty(num_steps + 1)\n",
    "y_path = np.empty(num_steps + 1)\n",
    "z_path = np.empty(num_steps + 1)\n",
    "\n",
    "# Initial values:\n",
    "x_path[0], y_path[0], z_path[0] = (10., 10., 10.)\n",
    "\n",
    "# Step through \"time\", calculating the partial derivatives at the current point\n",
    "# and using them to estimate the next point\n",
    "for i in range(num_steps):\n",
    "    x_dot, y_dot, z_dot = t4.lorenz(x_path[i], y_path[i], z_path[i],sigma, rho, beta)\n",
    "    x_path[i + 1] = x_path[i] + (x_dot * dt)\n",
    "    y_path[i + 1] = y_path[i] + (y_dot * dt)\n",
    "    z_path[i + 1] = z_path[i] + (z_dot * dt)\n",
    "    \n",
    "print(z_path[-1])\n",
    "\n",
    "three_d_orbit(x_path, y_path, z_path, lw=3)"
   ]
  },
  {
   "cell_type": "markdown",
   "id": "cfa2634c",
   "metadata": {},
   "source": [
    "## Plot orbit in R^3 for P'"
   ]
  },
  {
   "cell_type": "code",
   "execution_count": null,
   "id": "01bde811",
   "metadata": {},
   "outputs": [],
   "source": [
    "rho=0.5\n",
    "\n",
    "x_hat_path = np.empty(num_steps + 1)\n",
    "y_hat_path = np.empty(num_steps + 1)\n",
    "z_hat_path = np.empty(num_steps + 1)\n",
    "\n",
    "# Initial values:\n",
    "x_hat_path[0], y_hat_path[0], z_hat_path[0] = (10.+10**-8.,10.,10.)\n",
    "\n",
    "# Step through \"time\", calculating the partial derivatives at the current point\n",
    "# and using them to estimate the next point\n",
    "for i in range(num_steps):\n",
    "    x_dot, y_dot, z_dot = t4.lorenz(x_hat_path[i], y_hat_path[i], z_hat_path[i],sigma, rho, beta)\n",
    "    x_hat_path[i + 1] = x_hat_path[i] + (x_dot * dt)\n",
    "    y_hat_path[i + 1] = y_hat_path[i] + (y_dot * dt)\n",
    "    z_hat_path[i + 1] = z_hat_path[i] + (z_dot * dt)\n",
    "\n",
    "three_d_orbit(x_path, y_path, z_path, lw=3)"
   ]
  },
  {
   "cell_type": "markdown",
   "id": "e534841a",
   "metadata": {},
   "source": [
    "### Bifurcation plot"
   ]
  },
  {
   "cell_type": "code",
   "execution_count": 2,
   "id": "35b237f4",
   "metadata": {},
   "outputs": [
    {
     "data": {
      "image/png": "[encoded data removed]",
      "text/plain": [
       "<Figure size 432x288 with 1 Axes>"
      ]
     },
     "metadata": {
      "needs_background": "light"
     },
     "output_type": "display_data"
    }
   ],
   "source": [
    "rho = np.linspace(0,50,100)\n",
    "beta = 8/3\n",
    "\n",
    "x_pos,x_neg,z = t4.lorenz_equilibrium(rho,beta)\n",
    "t4.plot_equilibria(rho,x_pos,x_neg,z)"
   ]
  },
  {
   "cell_type": "code",
   "execution_count": null,
   "id": "e44d3143",
   "metadata": {},
   "outputs": [],
   "source": []
  }
 ],
 "metadata": {
  "kernelspec": {
   "display_name": "Python 3 (ipykernel)",
   "language": "python",
   "name": "python3"
  },
  "language_info": {
   "codemirror_mode": {
    "name": "ipython",
    "version": 3
   },
   "file_extension": ".py",
   "mimetype": "text/x-python",
   "name": "python",
   "nbconvert_exporter": "python",
   "pygments_lexer": "ipython3",
   "version": "3.9.8"
  }
 },
 "nbformat": 4,
 "nbformat_minor": 5
}
