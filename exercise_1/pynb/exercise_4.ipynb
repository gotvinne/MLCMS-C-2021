{
 "cells": [
  {
   "cell_type": "markdown",
   "metadata": {},
   "source": [
    "# Exercise 4 Group C\n",
    "\n",
    "Task: obstacle avoidance \n",
    "\n",
    "Next test is to implement Dijkstra and do the chicken test, comparing rudimentary obctacle avoidance and dijkstra. \n",
    "\n",
    "\n"
   ]
  },
  {
   "cell_type": "markdown",
   "metadata": {},
   "source": [
    "## Import statements"
   ]
  },
  {
   "cell_type": "code",
   "execution_count": null,
   "metadata": {},
   "outputs": [],
   "source": [
    "import sys\n",
    "sys.path.append(\"/Path/to/parent/dir\")\n",
    "from GUI.grid import Grid\n",
    "from CLI import read_simulation_file"
   ]
  },
  {
   "cell_type": "markdown",
   "metadata": {},
   "source": [
    "## Running the simulation"
   ]
  },
  {
   "cell_type": "markdown",
   "metadata": {},
   "source": [
    "# The variable t defines the timestamp for when the simulation should end. Starting at timestamp = 0\n",
    "t = 75\n",
    "\n",
    "# Instead of using the entire CLI menu we just just a predefined file with the specifications we need.\n",
    "simulation_dict = read_simulation_file(\"../simulations/exercise3_sim.txt\")\n",
    "\n",
    "# We pass this this dictionary to the simulation so it can run the simulation.\n",
    "grid = Grid(simulation_dict,t)\n"
   ]
  }
 ],
 "metadata": {
  "language_info": {
   "name": "python"
  },
  "orig_nbformat": 4
 },
 "nbformat": 4,
 "nbformat_minor": 2
}
