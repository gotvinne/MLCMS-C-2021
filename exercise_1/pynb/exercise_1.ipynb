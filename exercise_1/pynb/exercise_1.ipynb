{
 "cells": [
  {
   "cell_type": "markdown",
   "metadata": {},
   "source": [
    "# Exercise 1 Group C\n"
   ]
  },
  {
   "cell_type": "markdown",
   "metadata": {},
   "source": [
    "## Task 1: Setting up the model environment \n",
    "\n",
    "The code below will set up a basic environment where pressing one will run task 1, meaning one pedestrian reaching a target and avoiding one obstacle. "
   ]
  },
  {
   "cell_type": "code",
   "execution_count": null,
   "metadata": {
    "tags": []
   },
   "outputs": [
    {
     "name": "stdout",
     "output_type": "stream",
     "text": [
      "-----------------------------------------------\n",
      "WELCOME TO GROUP C's CROWD MODELING SIMULATION \n",
      "-----------------------------------------------\n",
      "1: Create own simulation\n",
      "2: Run TEST1\n",
      "3: Run TEST2\n"
     ]
    }
   ],
   "source": [
    "import sys,os\n",
    "sys.path.append(\"path/to/parent/dir\")\n",
    "\n",
    "from CLI import cli_menu\n",
    "from GUI.grid import Grid\n",
    "\n",
    "simulate = True\n",
    "while (simulate):\n",
    "    t = 100\n",
    "    # Determine simulation from CLI:\n",
    "    simulation_dict = cli_menu()\n",
    "    grid = Grid(simulation_dict,t)\n",
    "\n",
    "    # Run GUI\n",
    "    #grid.simulate()\n",
    "\n",
    "    ans = input(\"Terminate simulation? (y/n) \").upper()\n",
    "    if (ans == 'Y' or ans == \"YES\" or ans == \"y\"):\n",
    "        simulate = False \n",
    "    "
   ]
  },
  {
   "cell_type": "code",
   "execution_count": 21,
   "metadata": {},
   "outputs": [],
   "source": []
  },
  {
   "cell_type": "code",
   "execution_count": null,
   "metadata": {},
   "outputs": [],
   "source": []
  },
  {
   "cell_type": "code",
   "execution_count": null,
   "metadata": {},
   "outputs": [],
   "source": []
  }
 ],
 "metadata": {
  "interpreter": {
   "hash": "0adcc2737ebf6a4a119f135174df96668767fca1ef1112612db5ecadf2b6d608"
  },
  "kernelspec": {
   "display_name": "Python 3 (ipykernel)",
   "language": "python",
   "name": "python3"
  },
  "language_info": {
   "codemirror_mode": {
    "name": "ipython",
    "version": 3
   },
   "file_extension": ".py",
   "mimetype": "text/x-python",
   "name": "python",
   "nbconvert_exporter": "python",
   "pygments_lexer": "ipython3",
   "version": "3.9.7"
  }
 },
 "nbformat": 4,
 "nbformat_minor": 4
}
