{
 "cells": [
  {
   "cell_type": "markdown",
   "metadata": {},
   "source": [
    "# Exercise 3 Group C"
   ]
  },
  {
   "cell_type": "markdown",
   "metadata": {},
   "source": [
    "Task: interaction of pedestrians "
   ]
  },
  {
   "cell_type": "markdown",
   "metadata": {},
   "source": [
    "Below the code for running the experiment with 5 pedestians moving 30 steps/meters to the target is specified. The pedestrians is arranged in a half circle around the taget to test that they all reach the target roughly at the same time"
   ]
  },
  {
   "cell_type": "markdown",
   "metadata": {},
   "source": [
    "# import statements"
   ]
  },
  {
   "cell_type": "code",
   "execution_count": 1,
   "metadata": {
    "tags": []
   },
   "outputs": [],
   "source": [
    "import sys\n",
    "sys.path.append(\"/path/to/parent/dir\")\n",
    "\n",
    "from GUI.grid import Grid\n",
    "from CLI import read_simulation_file"
   ]
  },
  {
   "cell_type": "markdown",
   "metadata": {},
   "source": [
    "# Running the simulation "
   ]
  },
  {
   "cell_type": "code",
   "execution_count": 2,
   "metadata": {},
   "outputs": [],
   "source": [
    "# The variable t defines the timestamp for when the simulation should end. Starting at timestamp = 0\n",
    "t = 50\n",
    "\n",
    "# Instead of using the entire CLI menu we just just a predefined file with the specifications we need.\n",
    "simulation_dict = read_simulation_file(\"../simulations/exercise3_sim.txt\")\n",
    "\n",
    "# We pass this this dictionary to the simulation so it can run the simulation.\n",
    "grid = Grid(simulation_dict,t)\n"
   ]
  },
  {
   "cell_type": "markdown",
   "metadata": {},
   "source": [
    "# Write the results to file"
   ]
  },
  {
   "cell_type": "markdown",
   "metadata": {},
   "source": [
    "To be work with the results afterwards we write them to a file"
   ]
  },
  {
   "cell_type": "code",
   "execution_count": 3,
   "metadata": {},
   "outputs": [],
   "source": [
    "grid.print_results_to_file(\"../simulations/results/exercise3.txt\")"
   ]
  },
  {
   "cell_type": "code",
   "execution_count": null,
   "metadata": {},
   "outputs": [],
   "source": []
  }
 ],
 "metadata": {
  "kernelspec": {
   "display_name": "Python 3 (ipykernel)",
   "language": "python",
   "name": "python3"
  },
  "language_info": {
   "codemirror_mode": {
    "name": "ipython",
    "version": 3
   },
   "file_extension": ".py",
   "mimetype": "text/x-python",
   "name": "python",
   "nbconvert_exporter": "python",
   "pygments_lexer": "ipython3",
   "version": "3.9.7"
  }
 },
 "nbformat": 4,
 "nbformat_minor": 4
}
