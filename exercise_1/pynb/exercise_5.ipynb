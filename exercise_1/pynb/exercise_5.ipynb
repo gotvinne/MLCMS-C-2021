{
 "cells": [
  {
   "cell_type": "markdown",
   "metadata": {},
   "source": [
    "## Exercise 5 - Croup C \n",
    "\n",
    "Task: Rimea scenarios. "
   ]
  },
  {
   "cell_type": "markdown",
   "metadata": {},
   "source": [
    "## Import statements "
   ]
  },
  {
   "cell_type": "code",
   "execution_count": 1,
   "metadata": {},
   "outputs": [],
   "source": [
    "import sys\n",
    "sys.path.append(\"/path/to/parent/dir\")\n",
    "from GUI.grid import Grid\n",
    "from CLI import read_simulation_file"
   ]
  },
  {
   "cell_type": "markdown",
   "metadata": {},
   "source": [
    "## RiMEA 1 "
   ]
  },
  {
   "cell_type": "code",
   "execution_count": 2,
   "metadata": {},
   "outputs": [
    {
     "name": "stdout",
     "output_type": "stream",
     "text": [
      "+---------------------+-------+------------------+------------------+\n",
      "| Pedestrian position | Speed | Initial distance | Simulation steps |\n",
      "+---------------------+-------+------------------+------------------+\n",
      "|       (0, 20)       |  1.33 |       40.0       |        31        |\n",
      "+---------------------+-------+------------------+------------------+\n",
      "+---------------------+-------+------------------+------------------+\n",
      "| Pedestrian position | Speed | Initial distance | Simulation steps |\n",
      "+---------------------+-------+------------------+------------------+\n",
      "|       (0, 20)       |  1.33 |       40.0       |        31        |\n",
      "+---------------------+-------+------------------+------------------+\n"
     ]
    }
   ],
   "source": [
    "# The variable t defines the timestamp for when the simulation should end. Starting at timestamp = 0\n",
    "t = 35\n",
    "\n",
    "# Instead of using the entire CLI menu we just just a predefined file with the specifications we need.\n",
    "simulation_dict = read_simulation_file(\"../simulations/RiMEA_TEST1.txt\")\n",
    "# We pass this this dictionary to the simulation so it can run the simulation.\n",
    "grid = Grid(simulation_dict,t)\n"
   ]
  },
  {
   "cell_type": "markdown",
   "metadata": {},
   "source": []
  }
 ],
 "metadata": {
  "interpreter": {
   "hash": "0adcc2737ebf6a4a119f135174df96668767fca1ef1112612db5ecadf2b6d608"
  },
  "kernelspec": {
   "display_name": "Python 3.8.5 64-bit",
   "name": "python3"
  },
  "language_info": {
   "codemirror_mode": {
    "name": "ipython",
    "version": 3
   },
   "file_extension": ".py",
   "mimetype": "text/x-python",
   "name": "python",
   "nbconvert_exporter": "python",
   "pygments_lexer": "ipython3",
   "version": "3.8.5"
  },
  "orig_nbformat": 4
 },
 "nbformat": 4,
 "nbformat_minor": 2
}
